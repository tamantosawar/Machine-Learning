{
 "cells": [
  {
   "cell_type": "code",
   "execution_count": 1,
   "metadata": {},
   "outputs": [
    {
     "name": "stdout",
     "output_type": "stream",
     "text": [
      "give some keyword:hello\n",
      "[Synset('hello.n.01')]\n",
      "an expression of greeting\n",
      "['every morning they exchanged polite hellos']\n"
     ]
    }
   ],
   "source": [
    "#!/usr/bin/python3\n",
    "from nltk.corpus import wordnet\n",
    "\n",
    "key_word=input(\"give some keyword:\")\n",
    "\n",
    "#printing wordnet function \n",
    "\n",
    "print(wordnet.synsets(key_word))\n",
    "new_dict=wordnet.synsets(key_word)\n",
    "\n",
    "#print definitions\n",
    "print(new_dict[0].definition())\n",
    "\n",
    "#print examples\n",
    "print(new_dict[0].examples())\n"
   ]
  },
  {
   "cell_type": "code",
   "execution_count": null,
   "metadata": {},
   "outputs": [],
   "source": []
  },
  {
   "cell_type": "code",
   "execution_count": null,
   "metadata": {},
   "outputs": [],
   "source": []
  },
  {
   "cell_type": "code",
   "execution_count": null,
   "metadata": {},
   "outputs": [],
   "source": []
  },
  {
   "cell_type": "code",
   "execution_count": null,
   "metadata": {},
   "outputs": [],
   "source": []
  },
  {
   "cell_type": "code",
   "execution_count": null,
   "metadata": {},
   "outputs": [],
   "source": []
  }
 ],
 "metadata": {
  "kernelspec": {
   "display_name": "Python 3",
   "language": "python",
   "name": "python3"
  },
  "language_info": {
   "codemirror_mode": {
    "name": "ipython",
    "version": 3
   },
   "file_extension": ".py",
   "mimetype": "text/x-python",
   "name": "python",
   "nbconvert_exporter": "python",
   "pygments_lexer": "ipython3",
   "version": "3.6.5"
  }
 },
 "nbformat": 4,
 "nbformat_minor": 2
}
