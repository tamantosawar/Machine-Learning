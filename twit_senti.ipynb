{
 "cells": [
  {
   "cell_type": "code",
   "execution_count": 31,
   "metadata": {},
   "outputs": [
    {
     "name": "stdout",
     "output_type": "stream",
     "text": [
      "RT @cineveduka: #Sammohanam success celebrations from home.\n",
      "Team is joined by #superstar #Krishna garu and #VijayaNirmala garu\n",
      "@isudheerbab…\n",
      "Sentiment(polarity=0.3, subjectivity=0.0)\n",
      "RT @AlokTiwari9335: @Unique_spacial @HTLpramod @IIGoDMomll @999Begwani @AnuragpandeyG @Ram927896588 @Vinayrv00 @DPKS511 @Prabhakar2July @Sa…\n",
      "Sentiment(polarity=0.0, subjectivity=0.0)\n",
      "मैं ज्ञान में ब्राह्मण हूँ, व्यवस्था में वैश्य हूँ, रणभूमि पर मैं क्षत्रिय हूँ और सेवा करने में शूद्र हूँ.. अत: मैं… https://t.co/sxThvmdtJP\n",
      "Sentiment(polarity=0.0, subjectivity=0.0)\n",
      "RT @IndiaHistorypic: 18th Century :: Krishna and Radha Looking at Full Moon and Female Attendent Holding  Plate   , Kota , Rajasthan ( Cele…\n",
      "Sentiment(polarity=0.175, subjectivity=0.35833333333333334)\n",
      "@suraa_krishna Hi\n",
      "Sentiment(polarity=0.0, subjectivity=0.0)\n",
      "RT @IndiaHistorypic: 18th Century :: Krishna and Radha Looking at Full Moon and Female Attendent Holding  Plate   , Kota , Rajasthan ( Cele…\n",
      "Sentiment(polarity=0.175, subjectivity=0.35833333333333334)\n",
      "RT @HindolSengupta: Now Harbans Mukhia has backtracked on the Krishna photo. :D Without social media this would have definitely become \"the…\n",
      "Sentiment(polarity=0.3444444444444445, subjectivity=0.5222222222222223)\n",
      "RT @keshav61: Krishna philharmonic #watercolour #krishnafortoday https://t.co/4yVj8mFMdY\n",
      "Sentiment(polarity=0.0, subjectivity=0.0)\n",
      "RT @HindolSengupta: Now Harbans Mukhia has backtracked on the Krishna photo. :D Without social media this would have definitely become \"the…\n",
      "Sentiment(polarity=0.3444444444444445, subjectivity=0.5222222222222223)\n",
      "Hi @Atheist_Krishna bhai, kuch aisa edit karo ki saari janta khush ho jaaye 😂😂 https://t.co/szjLPmMyI7\n",
      "Sentiment(polarity=0.0, subjectivity=0.0)\n",
      "RT @HindolSengupta: Now Harbans Mukhia has backtracked on the Krishna photo. :D Without social media this would have definitely become \"the…\n",
      "Sentiment(polarity=0.3444444444444445, subjectivity=0.5222222222222223)\n",
      "RT @republic: #BJPDumpsPDP | It's not possible for BJP to continue in the alliance government in Jammu and Kashmir: Ram Madhav, BJP\n",
      "\n",
      "https:…\n",
      "Sentiment(polarity=0.0, subjectivity=1.0)\n"
     ]
    }
   ],
   "source": [
    "#!/usr/bin/python3\n",
    "import tweepy\n",
    "from textblob import TextBlob as tblob\n",
    "#creating consumer key & secret key\n",
    "#to auhtenticate\n",
    "consumer_key='01CsqDSwGErn40wzj1WXhTO7S'\n",
    "consumer_secret='qbRhV2aSstkuc4t1t7YgpT0RWWbH5igyJ3PzudYao0s2yaFs5K'\n",
    "\n",
    "#creating access key and access secret\n",
    "access_key='1006874692697722880-bvxgEa9q5ciBwO0Ncs8ntxeQEHm8Zg'\n",
    "access_secret='FNjL4RxC3YbkFbSh1d2gLGAxUsc0wXQlM60myNfnskyNm'\n",
    "# connecting for authentication \n",
    "auth=tweepy.OAuthHandler(consumer_key,consumer_secret)\n",
    "auth.set_access_token(access_key,access_secret)\n",
    "connect=tweepy.API(auth)\n",
    "getdata=connect.search(\"krishna\",count=12)\n",
    "#print (getdata)\n",
    "\n",
    "for i in getdata:\n",
    "    print(i.text)\n",
    "    a=tblob(i.text)\n",
    "    print(a.sentiment)"
   ]
  },
  {
   "cell_type": "code",
   "execution_count": null,
   "metadata": {},
   "outputs": [],
   "source": [
    " "
   ]
  },
  {
   "cell_type": "code",
   "execution_count": null,
   "metadata": {},
   "outputs": [],
   "source": []
  }
 ],
 "metadata": {
  "kernelspec": {
   "display_name": "Python 3",
   "language": "python",
   "name": "python3"
  },
  "language_info": {
   "codemirror_mode": {
    "name": "ipython",
    "version": 3
   },
   "file_extension": ".py",
   "mimetype": "text/x-python",
   "name": "python",
   "nbconvert_exporter": "python",
   "pygments_lexer": "ipython3",
   "version": "3.6.5"
  }
 },
 "nbformat": 4,
 "nbformat_minor": 2
}
