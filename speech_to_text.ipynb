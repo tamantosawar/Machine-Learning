{
 "cells": [
  {
   "cell_type": "code",
   "execution_count": 9,
   "metadata": {},
   "outputs": [
    {
     "data": {
      "text/plain": [
       "\"Nachan sleepaway Karnal district out into the restless mind one's visited PSI to the show it in the wall allowed it reacts to bolo fashion to print on each side a call to Tiptur stores help in just a text you also office each Mark II tourist over the soul of the old house the point of the scope and was burnt in twisted there is a white between path and act\""
      ]
     },
     "execution_count": 9,
     "metadata": {},
     "output_type": "execute_result"
    }
   ],
   "source": [
    "import speech_recognition as sr\n",
    "r=sr.Recognizer()\n",
    "#r.recognize_google()\n",
    "aud=sr.AudioFile('/home/login_loop/Downloads/maud.wav')\n",
    "with aud as source:\n",
    "    #to remove noise in audio\n",
    "    r.adjust_for_ambient_noise(source)\n",
    "    audio=r.record(source)\n",
    "type(audio)\n",
    "r.recognize_google(audio)\n"
   ]
  },
  {
   "cell_type": "code",
   "execution_count": 10,
   "metadata": {},
   "outputs": [
    {
     "data": {
      "text/plain": [
       "{'alternative': [{'confidence': 0.89689404,\n",
       "   'transcript': \"Nachan sleepaway Karnal district out into the restless mind one's visited PSI to the show it in the wall allowed it reacts to bolo fashion to print on each side a call to Tiptur stores help in just a text you also office each Mark II tourist over the soul of the old house the point of the scope and was burnt in twisted there is a white between path and act\"},\n",
       "  {'transcript': \"Nachan sleepaway Karnal district out into the restless mind one's twisted PSI to the show it in the wall allowed in react to bolo fashion to print on each side a call to Tiptur stores help in just a text you also office each Mark II tourist over the soul of the old house the point of the scope and was burnt in twisted there is a white between path and act\"},\n",
       "  {'transcript': \"Nachan sleepaway Karnal district out into the restless mind one's twisted PSI to the show it in the wall allowed it reacts to bolo season 2 Prince on each side a call to Tiptur stores help in just a text you also office each Mark II tourist over the soul of the old house the point of the scope and was burnt in twisted there is a white between path and act\"},\n",
       "  {'transcript': \"Nachan sleepaway Karnal district out into the restless mind one's visited PSI to the show it in the wall allowed in react to bolo fashion to print on each side a call to Tiptur stores help in just a text you also office each Mark II tourist over the soul of the old house the point of the scope and was burnt in twisted there is a white between path and act\"},\n",
       "  {'transcript': \"Nachan sleepaway Karnal district out into the restless mind one's twisted PSI to the show it in the wall allowed it reacts to bolo season 2 Prince on its side a call to Tiptur stores help in just a text you also office each Mark II tourist over the soul of the old house the point of the scope and was burnt in twisted there is a white between path and act\"}],\n",
       " 'final': True}"
      ]
     },
     "execution_count": 10,
     "metadata": {},
     "output_type": "execute_result"
    }
   ],
   "source": [
    "#check all alternative recognition\n",
    "r.recognize_google(audio, show_all=True)"
   ]
  },
  {
   "cell_type": "code",
   "execution_count": 25,
   "metadata": {},
   "outputs": [
    {
     "data": {
      "text/plain": [
       "'what are you doing'"
      ]
     },
     "execution_count": 25,
     "metadata": {},
     "output_type": "execute_result"
    }
   ],
   "source": [
    "import speech_recognition as sr\n",
    "r = sr.Recognizer()\n",
    "mic=sr.Microphone()\n",
    "sr.Microphone.list_microphone_names()\n",
    "#capture microphone input\n",
    "with mic as source:\n",
    "      audio = r.listen(source)\n",
    "r.recognize_google(audio)"
   ]
  },
  {
   "cell_type": "code",
   "execution_count": null,
   "metadata": {},
   "outputs": [],
   "source": []
  },
  {
   "cell_type": "code",
   "execution_count": null,
   "metadata": {},
   "outputs": [],
   "source": []
  }
 ],
 "metadata": {
  "kernelspec": {
   "display_name": "Python 3",
   "language": "python",
   "name": "python3"
  },
  "language_info": {
   "codemirror_mode": {
    "name": "ipython",
    "version": 3
   },
   "file_extension": ".py",
   "mimetype": "text/x-python",
   "name": "python",
   "nbconvert_exporter": "python",
   "pygments_lexer": "ipython3",
   "version": "3.6.5"
  }
 },
 "nbformat": 4,
 "nbformat_minor": 2
}
